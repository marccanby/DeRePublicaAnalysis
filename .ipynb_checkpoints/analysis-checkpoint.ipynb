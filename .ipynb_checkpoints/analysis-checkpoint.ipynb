{
 "cells": [
  {
   "cell_type": "markdown",
   "metadata": {},
   "source": [
    "# De Re Publica Analysis\n",
    "\n",
    "This notebook contains some preliminary investigations of Cicero's De Re Publica."
   ]
  },
  {
   "cell_type": "markdown",
   "metadata": {},
   "source": [
    "## Part I. Read and clean in the data\n",
    "\n",
    "First we read in the text."
   ]
  },
  {
   "cell_type": "code",
   "execution_count": 25,
   "metadata": {},
   "outputs": [
    {
     "name": "stdout",
     "output_type": "stream",
     "text": [
      "Number of sentences: 832\n",
      "Number of words: 24885\n"
     ]
    }
   ],
   "source": [
    "from cltk.corpus.latin import latinlibrary\n",
    "files = latinlibrary.fileids()\n",
    "drp_files = [f for f in files if 'cicero/repub' in f]\n",
    "\n",
    "drp_raw = latinlibrary.raw(drp_files)\n",
    "drp_sents = latinlibrary.sents(drp_files)\n",
    "drp_words = latinlibrary.words(drp_files)\n",
    "\n",
    "print(\"Number of sentences:\", len(drp_sents))\n",
    "print(\"Number of words:\", len(drp_words))"
   ]
  },
  {
   "cell_type": "markdown",
   "metadata": {},
   "source": [
    "We are going to work with the sentence data. We will clean it up to remove punctuation and non-words."
   ]
  },
  {
   "cell_type": "code",
   "execution_count": 26,
   "metadata": {},
   "outputs": [
    {
     "name": "stdout",
     "output_type": "stream",
     "text": [
      "Sentence 0 : ['cicero', 'res_publica', 'eo']\n",
      "Sentence 1 : ['tulli', 'ciceronis', 'res_publica', 'libo', 'primus']\n",
      "Sentence 2 : ['petu', 'liberauissent', 'duelius', 'atilius', 'metellus', 'terror', 'karthaginis', 'duo', 'scipio', 'orior', 'incendium', 'bellus', 'punici', 'secundus', 'sanguis', 'suo', 'restinguo', 'excito', 'magnus', 'copia', 'magnus', 'eneruauisset', 'marcellus', 'contundo', 'porta', 'urbs', 'auolsum', 'africanus', 'compello', 'intro', 'hostis', 'moenia']\n",
      "Sentence 3 : ['verus', 'catonium', 'homo', 'ignosco', 'novo', 'omnes', 'res', 'studeo', 'quasi', 'exemplo', 'industria', 'virtus', 'duco', 'certus', 'liceo', 'tusculum', 'otium', 'delecto', 'salubris', 'propinquo', 'loco']\n",
      "Sentence 4 : ['homo', 'demo', 'iste', 'puto', 'cogo', 'necessitas', 'nullus', 'unda', 'tempestas', 'summa', 'senectus', 'malo', 'jacto', 'tranquillitas', 'otium', 'jucundus', 'vivo']\n",
      "Sentence 5 : ['omitto', 'innumerabilis', 'vir', 'singulus', 'salus', 'civitas', 'procul', 'aetas', 'memor', 'commemoro', 'desino', 'neo', 'queo', 'suum', 'praetermitto', 'queror']\n",
      "Sentence 6 : ['definio', 'tantus', 'edo', 'necessitas', 'virtus', 'gener', 'homo', 'natura', 'tantus', 'amor', 'communis', 'saluto', 'defendo', 'do', 'volo', 'omne', 'blandimentum', 'voluptas', 'otium', 'vinco']\n",
      "Sentence 7 : ['verus', 'habeo', 'virtus', 'sero', 'edo', 'quasi', 'arto', 'nitor', 'uto', 'ars', 'uto', 'scio', 'teneo', 'virtus', 'utor', 'suo', 'totus', 'pono', 'edo', 'utor', 'edo', 'magnus', 'civitas', 'gubernatio', 'res', 'iste', 'angulus', 'persono', 'reapse', 'oratio', 'perfectio']\n",
      "Sentence 8 : ['nihil', 'dico', 'philosophus', 'recingo', 'honestus', 'dico', 'pario', 'confirmo', 'civitas', 'juro', 'discribo']\n",
      "Sentence 9 : ['unde', 'pietas', 'religio']\n",
      "Sentence -1 : ['cicero', 'thos', 'fero', 'thos', 'pagus']\n",
      "Sentence -2 : ['discedo', 'somnus', 'solvo']\n",
      "Sentence -3 : ['animus', 'corpus', 'voluptas', 'dedo', 'quasi', 'minister', 'praebeo', 'impello', 'libido', 'voluptas', 'oboedio', 'deus', 'homo', 'juro', 'uiolauerunt', 'corpus', 'elabor', 'circos', 'terra', 'voluto', 'locus', 'nitor', 'multa', 'exagito', 'saeculum', 'revorto']\n",
      "Sentence -4 : ['bonus', 'cura', 'salus', 'patria', 'agito', 'exercito', 'animus', 'velox', 'sedo', 'domus', 'suo', 'peruolabit', 'ocior', 'facio', 'jam', 'includo', 'corpus', 'emineo', 'foro', 'extro', 'contemplo', 'magnus', 'corpus', 'abstraho']\n",
      "Sentence -5 : ['exerceo', 'bonus', 'res']\n",
      "Sentence -6 : ['edo', 'omne', 'moveo', 'nato', 'certus', 'edo', 'aeternus', 'edo']\n",
      "Sentence -7 : ['inanimus', 'edo', 'omne', 'pello', 'agito', 'externus', 'edo', 'animal', 'moveo', 'cieo', 'internus', 'suo', 'edo', 'proprius', 'natura', 'animus', 'volo']\n",
      "Sentence -8 : ['pateo', 'aeternus', 'edo', 'moveo', 'queo', 'edo', 'natura', 'animus', 'edo', 'tribuo', 'nego']\n",
      "Sentence -9 : ['nasco', 'morior', 'vel', 'concaedes', 'omne', 'caelum', 'omne', 'natura', 'consisto', 'necesse', 'edo', 'vis', 'ullus', 'nanciscor', 'primus', 'impello', 'moveo']\n"
     ]
    }
   ],
   "source": [
    "from cltk.stem.lemma import LemmaReplacer\n",
    "lemmatizer = LemmaReplacer('latin')\n",
    "from cltk.stop.latin.stops import STOPS_LIST\n",
    "from string import digits\n",
    "remove_digits = str.maketrans('', '', digits)\n",
    "from cltk.stem.latin.j_v import JVReplacer\n",
    "jv_replacer = JVReplacer()\n",
    "\n",
    "def sentence_cleaner(sentence):\n",
    "    def remove_word(word):\n",
    "        if word in [\".\",\",\",\"-\",\";\",\":\",\"?\",\"&\",\"!\",\"(\",\")\",\"lt\",\"gt\",'\"']:\n",
    "            return True\n",
    "        if \"&\" in word:\n",
    "            return True\n",
    "        if word in STOPS_LIST +[\"que\",\"ne\",\"library\",\"classics\"]:\n",
    "            return True\n",
    "        if word == \"\":\n",
    "            return True\n",
    "        if len(word) == 1:\n",
    "            return True\n",
    "        return False\n",
    "        \n",
    "    def lemmatize_word(word):\n",
    "        w = word.lower()\n",
    "        if w == \"re\":\n",
    "            return [\"res\"]\n",
    "        w = w.replace(\"'\",\"\")\n",
    "        w = w.replace('\"','')\n",
    "        w = w.replace(\".\",\"\")\n",
    "        w = jv_replacer.replace(w)\n",
    "        l = lemmatizer.lemmatize(w)\n",
    "        if  len(l) == 1 and (l[0] == \"publica\" or l[0] == \"publicum\" or l[0] == \"publico\"):\n",
    "            return [\"publicus\"]\n",
    "        return l\n",
    "    \n",
    "    sent = []\n",
    "    for wd in sentence:\n",
    "        sent += lemmatize_word(wd)\n",
    "    \n",
    "    new_sent = []\n",
    "    i = 0\n",
    "    while i < len(sent):\n",
    "        if sent[i] == \"res\":\n",
    "            if i != len(sent) - 1:\n",
    "                if sent[i+1] == \"publicus\":\n",
    "                    new_sent.append(\"res_publica\")\n",
    "                    i = i + 2\n",
    "                    continue\n",
    "        new_sent.append(sent[i])\n",
    "        i = i + 1\n",
    "    \n",
    "    sent_no_nums = [wd.translate(remove_digits) for wd in new_sent]\n",
    "\n",
    "    return [wd for wd in sent_no_nums if not remove_word(wd)]\n",
    "\n",
    "\n",
    "\n",
    "sentences = [s for s in [sentence_cleaner(sent) for sent in drp_sents] if len(s) > 0]\n",
    "for i in range(10):\n",
    "    print(\"Sentence\",i,\":\",sentences[i])\n",
    "for i in range(1,10):\n",
    "    print(\"Sentence\",-i,\":\",sentences[-i])"
   ]
  },
  {
   "cell_type": "code",
   "execution_count": 27,
   "metadata": {},
   "outputs": [
    {
     "name": "stdout",
     "output_type": "stream",
     "text": [
      "The text corpus contains 12,669 tokens.\n"
     ]
    }
   ],
   "source": [
    "token_count = sum([len(sentence) for sentence in sentences])\n",
    "print(\"The text corpus contains {0:,} tokens.\".format(token_count))"
   ]
  },
  {
   "cell_type": "markdown",
   "metadata": {},
   "source": [
    "## Part II. Try a Word2Vec Model\n",
    "\n",
    "We will now attempt a Word2Vec model."
   ]
  },
  {
   "cell_type": "code",
   "execution_count": 28,
   "metadata": {},
   "outputs": [],
   "source": [
    "import multiprocessing\n",
    "\n",
    "params={\"size\": 100,\n",
    "        \"alpha\":0.025, \n",
    "        \"window\":5, \n",
    "        \"min_count\":2, \n",
    "        \"max_vocab_size\":None, \n",
    "        \"sample\":0.001, \n",
    "        \"seed\":1, \n",
    "        \"workers\":multiprocessing.cpu_count(), \n",
    "        \"min_alpha\":0.0001, \n",
    "        \"sg\":0, \n",
    "        \"hs\":0, \n",
    "        \"negative\":5, \n",
    "        \"cbow_mean\":1, \n",
    "        \"hashfxn\":hash, \n",
    "        \"iter\":5, \n",
    "        \"null_word\":0, \n",
    "        \"trim_rule\":None, \n",
    "        \"sorted_vocab\":1, \n",
    "        \"batch_words\":10000, \n",
    "        \"compute_loss\":False, \n",
    "        \"callbacks\":()}"
   ]
  },
  {
   "cell_type": "code",
   "execution_count": 29,
   "metadata": {},
   "outputs": [],
   "source": [
    "import gensim.models.word2vec as w2v\n",
    "\n",
    "drp2vec = w2v.Word2Vec(\n",
    "    **params\n",
    ")"
   ]
  },
  {
   "cell_type": "code",
   "execution_count": 30,
   "metadata": {},
   "outputs": [],
   "source": [
    "drp2vec.build_vocab(sentences)"
   ]
  },
  {
   "cell_type": "code",
   "execution_count": 31,
   "metadata": {},
   "outputs": [
    {
     "name": "stdout",
     "output_type": "stream",
     "text": [
      "Word2Vec vocabulary length: 1372\n"
     ]
    }
   ],
   "source": [
    "print(\"Word2Vec vocabulary length:\", len(drp2vec.wv.vocab))"
   ]
  },
  {
   "cell_type": "code",
   "execution_count": 32,
   "metadata": {},
   "outputs": [
    {
     "data": {
      "text/plain": [
       "(945974, 1266900)"
      ]
     },
     "execution_count": 32,
     "metadata": {},
     "output_type": "execute_result"
    }
   ],
   "source": [
    "drp2vec.train(sentences,total_examples=drp2vec.corpus_count,epochs=100)"
   ]
  },
  {
   "cell_type": "code",
   "execution_count": 33,
   "metadata": {},
   "outputs": [],
   "source": [
    "import os\n",
    "if not os.path.exists(\"trained\"):\n",
    "    os.makedirs(\"trained\")\n",
    "\n",
    "drp2vec.save(os.path.join(\"trained\", \"drp2vec.w2v\"))"
   ]
  },
  {
   "cell_type": "code",
   "execution_count": 34,
   "metadata": {},
   "outputs": [],
   "source": [
    "#drp2vec = w2v.Word2Vec.load(os.path.join(\"trained\", \"drp2vec.w2v\"))"
   ]
  },
  {
   "cell_type": "code",
   "execution_count": 35,
   "metadata": {},
   "outputs": [
    {
     "name": "stderr",
     "output_type": "stream",
     "text": [
      "/Users/marccanby/anaconda3/lib/python3.6/site-packages/ipykernel_launcher.py:3: DeprecationWarning: Call to deprecated `syn0` (Attribute will be removed in 4.0.0, use self.wv.vectors instead).\n",
      "  This is separate from the ipykernel package so we can avoid doing imports until\n"
     ]
    }
   ],
   "source": [
    "from sklearn import manifold\n",
    "tsne = manifold.TSNE(n_components=2, random_state=0)\n",
    "all_word_vectors_matrix = drp2vec.wv.syn0\n",
    "all_word_vectors_matrix_2d = tsne.fit_transform(all_word_vectors_matrix)"
   ]
  },
  {
   "cell_type": "code",
   "execution_count": 36,
   "metadata": {},
   "outputs": [],
   "source": [
    "import pandas as pd\n",
    "\n",
    "points = pd.DataFrame(\n",
    "    [\n",
    "        (word, coords[0], coords[1])\n",
    "        for word, coords in [\n",
    "            (word, all_word_vectors_matrix_2d[drp2vec.wv.vocab[word].index])\n",
    "            for word in drp2vec.wv.vocab\n",
    "        ]\n",
    "    ],\n",
    "    columns=[\"word\", \"x\", \"y\"]\n",
    ")"
   ]
  },
  {
   "cell_type": "code",
   "execution_count": 37,
   "metadata": {},
   "outputs": [
    {
     "data": {
      "text/html": [
       "<div>\n",
       "<style scoped>\n",
       "    .dataframe tbody tr th:only-of-type {\n",
       "        vertical-align: middle;\n",
       "    }\n",
       "\n",
       "    .dataframe tbody tr th {\n",
       "        vertical-align: top;\n",
       "    }\n",
       "\n",
       "    .dataframe thead th {\n",
       "        text-align: right;\n",
       "    }\n",
       "</style>\n",
       "<table border=\"1\" class=\"dataframe\">\n",
       "  <thead>\n",
       "    <tr style=\"text-align: right;\">\n",
       "      <th></th>\n",
       "      <th>word</th>\n",
       "      <th>x</th>\n",
       "      <th>y</th>\n",
       "    </tr>\n",
       "  </thead>\n",
       "  <tbody>\n",
       "    <tr>\n",
       "      <th>0</th>\n",
       "      <td>cicero</td>\n",
       "      <td>-24.358885</td>\n",
       "      <td>28.575043</td>\n",
       "    </tr>\n",
       "    <tr>\n",
       "      <th>1</th>\n",
       "      <td>res_publica</td>\n",
       "      <td>-10.105705</td>\n",
       "      <td>-39.704205</td>\n",
       "    </tr>\n",
       "    <tr>\n",
       "      <th>2</th>\n",
       "      <td>eo</td>\n",
       "      <td>23.977036</td>\n",
       "      <td>-17.637774</td>\n",
       "    </tr>\n",
       "    <tr>\n",
       "      <th>3</th>\n",
       "      <td>tulli</td>\n",
       "      <td>-34.894741</td>\n",
       "      <td>14.422677</td>\n",
       "    </tr>\n",
       "    <tr>\n",
       "      <th>4</th>\n",
       "      <td>ciceronis</td>\n",
       "      <td>-34.900356</td>\n",
       "      <td>14.421144</td>\n",
       "    </tr>\n",
       "    <tr>\n",
       "      <th>5</th>\n",
       "      <td>libo</td>\n",
       "      <td>-34.953342</td>\n",
       "      <td>14.384695</td>\n",
       "    </tr>\n",
       "    <tr>\n",
       "      <th>6</th>\n",
       "      <td>primus</td>\n",
       "      <td>-19.804354</td>\n",
       "      <td>26.317114</td>\n",
       "    </tr>\n",
       "    <tr>\n",
       "      <th>7</th>\n",
       "      <td>terror</td>\n",
       "      <td>-24.440586</td>\n",
       "      <td>2.278797</td>\n",
       "    </tr>\n",
       "    <tr>\n",
       "      <th>8</th>\n",
       "      <td>duo</td>\n",
       "      <td>-25.424988</td>\n",
       "      <td>6.427854</td>\n",
       "    </tr>\n",
       "    <tr>\n",
       "      <th>9</th>\n",
       "      <td>scipio</td>\n",
       "      <td>32.538181</td>\n",
       "      <td>12.221763</td>\n",
       "    </tr>\n",
       "    <tr>\n",
       "      <th>10</th>\n",
       "      <td>orior</td>\n",
       "      <td>-28.889225</td>\n",
       "      <td>13.186932</td>\n",
       "    </tr>\n",
       "    <tr>\n",
       "      <th>11</th>\n",
       "      <td>bellus</td>\n",
       "      <td>13.344569</td>\n",
       "      <td>36.192997</td>\n",
       "    </tr>\n",
       "    <tr>\n",
       "      <th>12</th>\n",
       "      <td>secundus</td>\n",
       "      <td>-8.222672</td>\n",
       "      <td>3.269156</td>\n",
       "    </tr>\n",
       "    <tr>\n",
       "      <th>13</th>\n",
       "      <td>sanguis</td>\n",
       "      <td>-1.583798</td>\n",
       "      <td>-18.518597</td>\n",
       "    </tr>\n",
       "    <tr>\n",
       "      <th>14</th>\n",
       "      <td>suo</td>\n",
       "      <td>25.373590</td>\n",
       "      <td>32.279648</td>\n",
       "    </tr>\n",
       "    <tr>\n",
       "      <th>15</th>\n",
       "      <td>excito</td>\n",
       "      <td>-10.070487</td>\n",
       "      <td>13.479879</td>\n",
       "    </tr>\n",
       "    <tr>\n",
       "      <th>16</th>\n",
       "      <td>magnus</td>\n",
       "      <td>1.588997</td>\n",
       "      <td>-15.551893</td>\n",
       "    </tr>\n",
       "    <tr>\n",
       "      <th>17</th>\n",
       "      <td>copia</td>\n",
       "      <td>-12.745613</td>\n",
       "      <td>4.119702</td>\n",
       "    </tr>\n",
       "    <tr>\n",
       "      <th>18</th>\n",
       "      <td>marcellus</td>\n",
       "      <td>-11.009295</td>\n",
       "      <td>9.421991</td>\n",
       "    </tr>\n",
       "    <tr>\n",
       "      <th>19</th>\n",
       "      <td>urbs</td>\n",
       "      <td>-27.890894</td>\n",
       "      <td>4.125870</td>\n",
       "    </tr>\n",
       "    <tr>\n",
       "      <th>20</th>\n",
       "      <td>africanus</td>\n",
       "      <td>33.836231</td>\n",
       "      <td>8.176126</td>\n",
       "    </tr>\n",
       "    <tr>\n",
       "      <th>21</th>\n",
       "      <td>intro</td>\n",
       "      <td>-10.635531</td>\n",
       "      <td>10.009652</td>\n",
       "    </tr>\n",
       "    <tr>\n",
       "      <th>22</th>\n",
       "      <td>hostis</td>\n",
       "      <td>-2.840897</td>\n",
       "      <td>15.141341</td>\n",
       "    </tr>\n",
       "    <tr>\n",
       "      <th>23</th>\n",
       "      <td>moenia</td>\n",
       "      <td>-10.595134</td>\n",
       "      <td>10.428130</td>\n",
       "    </tr>\n",
       "    <tr>\n",
       "      <th>24</th>\n",
       "      <td>verus</td>\n",
       "      <td>27.591726</td>\n",
       "      <td>8.798673</td>\n",
       "    </tr>\n",
       "    <tr>\n",
       "      <th>25</th>\n",
       "      <td>homo</td>\n",
       "      <td>12.690779</td>\n",
       "      <td>24.566614</td>\n",
       "    </tr>\n",
       "    <tr>\n",
       "      <th>26</th>\n",
       "      <td>ignosco</td>\n",
       "      <td>14.931845</td>\n",
       "      <td>24.165508</td>\n",
       "    </tr>\n",
       "    <tr>\n",
       "      <th>27</th>\n",
       "      <td>novo</td>\n",
       "      <td>12.373334</td>\n",
       "      <td>26.630560</td>\n",
       "    </tr>\n",
       "    <tr>\n",
       "      <th>28</th>\n",
       "      <td>omnes</td>\n",
       "      <td>15.881535</td>\n",
       "      <td>-10.130934</td>\n",
       "    </tr>\n",
       "    <tr>\n",
       "      <th>29</th>\n",
       "      <td>res</td>\n",
       "      <td>28.048616</td>\n",
       "      <td>-5.305360</td>\n",
       "    </tr>\n",
       "    <tr>\n",
       "      <th>30</th>\n",
       "      <td>studeo</td>\n",
       "      <td>27.281319</td>\n",
       "      <td>1.838331</td>\n",
       "    </tr>\n",
       "    <tr>\n",
       "      <th>31</th>\n",
       "      <td>quasi</td>\n",
       "      <td>1.541645</td>\n",
       "      <td>40.019207</td>\n",
       "    </tr>\n",
       "    <tr>\n",
       "      <th>32</th>\n",
       "      <td>exemplo</td>\n",
       "      <td>-18.936550</td>\n",
       "      <td>-24.531494</td>\n",
       "    </tr>\n",
       "    <tr>\n",
       "      <th>33</th>\n",
       "      <td>virtus</td>\n",
       "      <td>10.412798</td>\n",
       "      <td>31.703936</td>\n",
       "    </tr>\n",
       "    <tr>\n",
       "      <th>34</th>\n",
       "      <td>duco</td>\n",
       "      <td>-0.022415</td>\n",
       "      <td>8.519945</td>\n",
       "    </tr>\n",
       "    <tr>\n",
       "      <th>35</th>\n",
       "      <td>certus</td>\n",
       "      <td>14.332840</td>\n",
       "      <td>-28.527706</td>\n",
       "    </tr>\n",
       "    <tr>\n",
       "      <th>36</th>\n",
       "      <td>liceo</td>\n",
       "      <td>9.828425</td>\n",
       "      <td>-12.385770</td>\n",
       "    </tr>\n",
       "    <tr>\n",
       "      <th>37</th>\n",
       "      <td>otium</td>\n",
       "      <td>17.715189</td>\n",
       "      <td>-2.897038</td>\n",
       "    </tr>\n",
       "    <tr>\n",
       "      <th>38</th>\n",
       "      <td>delecto</td>\n",
       "      <td>19.363226</td>\n",
       "      <td>-1.654831</td>\n",
       "    </tr>\n",
       "    <tr>\n",
       "      <th>39</th>\n",
       "      <td>salubris</td>\n",
       "      <td>-4.069505</td>\n",
       "      <td>13.851871</td>\n",
       "    </tr>\n",
       "  </tbody>\n",
       "</table>\n",
       "</div>"
      ],
      "text/plain": [
       "           word          x          y\n",
       "0        cicero -24.358885  28.575043\n",
       "1   res_publica -10.105705 -39.704205\n",
       "2            eo  23.977036 -17.637774\n",
       "3         tulli -34.894741  14.422677\n",
       "4     ciceronis -34.900356  14.421144\n",
       "5          libo -34.953342  14.384695\n",
       "6        primus -19.804354  26.317114\n",
       "7        terror -24.440586   2.278797\n",
       "8           duo -25.424988   6.427854\n",
       "9        scipio  32.538181  12.221763\n",
       "10        orior -28.889225  13.186932\n",
       "11       bellus  13.344569  36.192997\n",
       "12     secundus  -8.222672   3.269156\n",
       "13      sanguis  -1.583798 -18.518597\n",
       "14          suo  25.373590  32.279648\n",
       "15       excito -10.070487  13.479879\n",
       "16       magnus   1.588997 -15.551893\n",
       "17        copia -12.745613   4.119702\n",
       "18    marcellus -11.009295   9.421991\n",
       "19         urbs -27.890894   4.125870\n",
       "20    africanus  33.836231   8.176126\n",
       "21        intro -10.635531  10.009652\n",
       "22       hostis  -2.840897  15.141341\n",
       "23       moenia -10.595134  10.428130\n",
       "24        verus  27.591726   8.798673\n",
       "25         homo  12.690779  24.566614\n",
       "26      ignosco  14.931845  24.165508\n",
       "27         novo  12.373334  26.630560\n",
       "28        omnes  15.881535 -10.130934\n",
       "29          res  28.048616  -5.305360\n",
       "30       studeo  27.281319   1.838331\n",
       "31        quasi   1.541645  40.019207\n",
       "32      exemplo -18.936550 -24.531494\n",
       "33       virtus  10.412798  31.703936\n",
       "34         duco  -0.022415   8.519945\n",
       "35       certus  14.332840 -28.527706\n",
       "36        liceo   9.828425 -12.385770\n",
       "37        otium  17.715189  -2.897038\n",
       "38      delecto  19.363226  -1.654831\n",
       "39     salubris  -4.069505  13.851871"
      ]
     },
     "execution_count": 37,
     "metadata": {},
     "output_type": "execute_result"
    }
   ],
   "source": [
    "points.head(40)"
   ]
  },
  {
   "cell_type": "code",
   "execution_count": 38,
   "metadata": {},
   "outputs": [
    {
     "name": "stdout",
     "output_type": "stream",
     "text": [
      "word    res_publica\n",
      "x          -10.1057\n",
      "y          -39.7042\n",
      "Name: 1, dtype: object\n",
      "word    publicus\n",
      "x       -14.9283\n",
      "y       -36.6694\n",
      "Name: 147, dtype: object\n",
      "word      pubes\n",
      "x       12.3384\n",
      "y        8.6832\n",
      "Name: 1171, dtype: object\n",
      "word    publicola\n",
      "x         4.34444\n",
      "y        -3.48008\n",
      "Name: 1279, dtype: object\n"
     ]
    }
   ],
   "source": [
    "for i in range(points.shape[0]):\n",
    "    if \"pub\" in points['word'][i]:\n",
    "        print (points.iloc[i])"
   ]
  },
  {
   "cell_type": "code",
   "execution_count": 39,
   "metadata": {},
   "outputs": [
    {
     "data": {
      "text/plain": [
       "<matplotlib.axes._subplots.AxesSubplot at 0x10ec18860>"
      ]
     },
     "execution_count": 39,
     "metadata": {},
     "output_type": "execute_result"
    },
    {
     "data": {
      "image/png": "[encoded data removed]",
      "text/plain": [
       "<matplotlib.figure.Figure at 0x1064c0d30>"
      ]
     },
     "metadata": {},
     "output_type": "display_data"
    }
   ],
   "source": [
    "import seaborn as sns\n",
    "import matplotlib.pyplot as plt\n",
    "sns.set_context(\"poster\")\n",
    "points.plot.scatter(\"x\", \"y\", s=10, figsize=(20, 12))"
   ]
  },
  {
   "cell_type": "code",
   "execution_count": 40,
   "metadata": {},
   "outputs": [],
   "source": [
    "def plot_region(x_bounds, y_bounds):\n",
    "    slice = points[\n",
    "        (x_bounds[0] <= points.x) &\n",
    "        (points.x <= x_bounds[1]) & \n",
    "        (y_bounds[0] <= points.y) &\n",
    "        (points.y <= y_bounds[1])\n",
    "    ]\n",
    "    \n",
    "    ax = slice.plot.scatter(\"x\", \"y\", s=35, figsize=(10, 8))\n",
    "    for i, point in slice.iterrows():\n",
    "        ax.text(point.x + 0.005, point.y + 0.005, point.word, fontsize=11)"
   ]
  },
  {
   "cell_type": "code",
   "execution_count": 41,
   "metadata": {},
   "outputs": [
    {
     "ename": "ValueError",
     "evalue": "scatter requires x column to be numeric",
     "output_type": "error",
     "traceback": [
      "\u001b[0;31m---------------------------------------------------------------------------\u001b[0m",
      "\u001b[0;31mValueError\u001b[0m                                Traceback (most recent call last)",
      "\u001b[0;32m<ipython-input-41-8c9e33471347>\u001b[0m in \u001b[0;36m<module>\u001b[0;34m()\u001b[0m\n\u001b[0;32m----> 1\u001b[0;31m \u001b[0mplot_region\u001b[0m\u001b[0;34m(\u001b[0m\u001b[0mx_bounds\u001b[0m\u001b[0;34m=\u001b[0m\u001b[0;34m(\u001b[0m\u001b[0;34m-\u001b[0m\u001b[0;36m40\u001b[0m\u001b[0;34m,\u001b[0m\u001b[0;34m-\u001b[0m\u001b[0;36m30\u001b[0m\u001b[0;34m)\u001b[0m\u001b[0;34m,\u001b[0m \u001b[0my_bounds\u001b[0m\u001b[0;34m=\u001b[0m\u001b[0;34m(\u001b[0m\u001b[0;36m20\u001b[0m\u001b[0;34m,\u001b[0m\u001b[0;36m30\u001b[0m\u001b[0;34m)\u001b[0m\u001b[0;34m)\u001b[0m\u001b[0;34m\u001b[0m\u001b[0m\n\u001b[0m",
      "\u001b[0;32m<ipython-input-40-e43b5d403e4d>\u001b[0m in \u001b[0;36mplot_region\u001b[0;34m(x_bounds, y_bounds)\u001b[0m\n\u001b[1;32m      7\u001b[0m     ]\n\u001b[1;32m      8\u001b[0m \u001b[0;34m\u001b[0m\u001b[0m\n\u001b[0;32m----> 9\u001b[0;31m     \u001b[0max\u001b[0m \u001b[0;34m=\u001b[0m \u001b[0mslice\u001b[0m\u001b[0;34m.\u001b[0m\u001b[0mplot\u001b[0m\u001b[0;34m.\u001b[0m\u001b[0mscatter\u001b[0m\u001b[0;34m(\u001b[0m\u001b[0;34m\"x\"\u001b[0m\u001b[0;34m,\u001b[0m \u001b[0;34m\"y\"\u001b[0m\u001b[0;34m,\u001b[0m \u001b[0ms\u001b[0m\u001b[0;34m=\u001b[0m\u001b[0;36m35\u001b[0m\u001b[0;34m,\u001b[0m \u001b[0mfigsize\u001b[0m\u001b[0;34m=\u001b[0m\u001b[0;34m(\u001b[0m\u001b[0;36m10\u001b[0m\u001b[0;34m,\u001b[0m \u001b[0;36m8\u001b[0m\u001b[0;34m)\u001b[0m\u001b[0;34m)\u001b[0m\u001b[0;34m\u001b[0m\u001b[0m\n\u001b[0m\u001b[1;32m     10\u001b[0m     \u001b[0;32mfor\u001b[0m \u001b[0mi\u001b[0m\u001b[0;34m,\u001b[0m \u001b[0mpoint\u001b[0m \u001b[0;32min\u001b[0m \u001b[0mslice\u001b[0m\u001b[0;34m.\u001b[0m\u001b[0miterrows\u001b[0m\u001b[0;34m(\u001b[0m\u001b[0;34m)\u001b[0m\u001b[0;34m:\u001b[0m\u001b[0;34m\u001b[0m\u001b[0m\n\u001b[1;32m     11\u001b[0m         \u001b[0max\u001b[0m\u001b[0;34m.\u001b[0m\u001b[0mtext\u001b[0m\u001b[0;34m(\u001b[0m\u001b[0mpoint\u001b[0m\u001b[0;34m.\u001b[0m\u001b[0mx\u001b[0m \u001b[0;34m+\u001b[0m \u001b[0;36m0.005\u001b[0m\u001b[0;34m,\u001b[0m \u001b[0mpoint\u001b[0m\u001b[0;34m.\u001b[0m\u001b[0my\u001b[0m \u001b[0;34m+\u001b[0m \u001b[0;36m0.005\u001b[0m\u001b[0;34m,\u001b[0m \u001b[0mpoint\u001b[0m\u001b[0;34m.\u001b[0m\u001b[0mword\u001b[0m\u001b[0;34m,\u001b[0m \u001b[0mfontsize\u001b[0m\u001b[0;34m=\u001b[0m\u001b[0;36m11\u001b[0m\u001b[0;34m)\u001b[0m\u001b[0;34m\u001b[0m\u001b[0m\n",
      "\u001b[0;32m~/anaconda3/lib/python3.6/site-packages/pandas/plotting/_core.py\u001b[0m in \u001b[0;36mscatter\u001b[0;34m(self, x, y, s, c, **kwds)\u001b[0m\n\u001b[1;32m   2853\u001b[0m         \u001b[0maxes\u001b[0m \u001b[0;34m:\u001b[0m \u001b[0mmatplotlib\u001b[0m\u001b[0;34m.\u001b[0m\u001b[0mAxesSubplot\u001b[0m \u001b[0;32mor\u001b[0m \u001b[0mnp\u001b[0m\u001b[0;34m.\u001b[0m\u001b[0marray\u001b[0m \u001b[0mof\u001b[0m \u001b[0mthem\u001b[0m\u001b[0;34m\u001b[0m\u001b[0m\n\u001b[1;32m   2854\u001b[0m         \"\"\"\n\u001b[0;32m-> 2855\u001b[0;31m         \u001b[0;32mreturn\u001b[0m \u001b[0mself\u001b[0m\u001b[0;34m(\u001b[0m\u001b[0mkind\u001b[0m\u001b[0;34m=\u001b[0m\u001b[0;34m'scatter'\u001b[0m\u001b[0;34m,\u001b[0m \u001b[0mx\u001b[0m\u001b[0;34m=\u001b[0m\u001b[0mx\u001b[0m\u001b[0;34m,\u001b[0m \u001b[0my\u001b[0m\u001b[0;34m=\u001b[0m\u001b[0my\u001b[0m\u001b[0;34m,\u001b[0m \u001b[0mc\u001b[0m\u001b[0;34m=\u001b[0m\u001b[0mc\u001b[0m\u001b[0;34m,\u001b[0m \u001b[0ms\u001b[0m\u001b[0;34m=\u001b[0m\u001b[0ms\u001b[0m\u001b[0;34m,\u001b[0m \u001b[0;34m**\u001b[0m\u001b[0mkwds\u001b[0m\u001b[0;34m)\u001b[0m\u001b[0;34m\u001b[0m\u001b[0m\n\u001b[0m\u001b[1;32m   2856\u001b[0m \u001b[0;34m\u001b[0m\u001b[0m\n\u001b[1;32m   2857\u001b[0m     def hexbin(self, x, y, C=None, reduce_C_function=None, gridsize=None,\n",
      "\u001b[0;32m~/anaconda3/lib/python3.6/site-packages/pandas/plotting/_core.py\u001b[0m in \u001b[0;36m__call__\u001b[0;34m(self, x, y, kind, ax, subplots, sharex, sharey, layout, figsize, use_index, title, grid, legend, style, logx, logy, loglog, xticks, yticks, xlim, ylim, rot, fontsize, colormap, table, yerr, xerr, secondary_y, sort_columns, **kwds)\u001b[0m\n\u001b[1;32m   2675\u001b[0m                           \u001b[0mfontsize\u001b[0m\u001b[0;34m=\u001b[0m\u001b[0mfontsize\u001b[0m\u001b[0;34m,\u001b[0m \u001b[0mcolormap\u001b[0m\u001b[0;34m=\u001b[0m\u001b[0mcolormap\u001b[0m\u001b[0;34m,\u001b[0m \u001b[0mtable\u001b[0m\u001b[0;34m=\u001b[0m\u001b[0mtable\u001b[0m\u001b[0;34m,\u001b[0m\u001b[0;34m\u001b[0m\u001b[0m\n\u001b[1;32m   2676\u001b[0m                           \u001b[0myerr\u001b[0m\u001b[0;34m=\u001b[0m\u001b[0myerr\u001b[0m\u001b[0;34m,\u001b[0m \u001b[0mxerr\u001b[0m\u001b[0;34m=\u001b[0m\u001b[0mxerr\u001b[0m\u001b[0;34m,\u001b[0m \u001b[0msecondary_y\u001b[0m\u001b[0;34m=\u001b[0m\u001b[0msecondary_y\u001b[0m\u001b[0;34m,\u001b[0m\u001b[0;34m\u001b[0m\u001b[0m\n\u001b[0;32m-> 2677\u001b[0;31m                           sort_columns=sort_columns, **kwds)\n\u001b[0m\u001b[1;32m   2678\u001b[0m     \u001b[0m__call__\u001b[0m\u001b[0;34m.\u001b[0m\u001b[0m__doc__\u001b[0m \u001b[0;34m=\u001b[0m \u001b[0mplot_frame\u001b[0m\u001b[0;34m.\u001b[0m\u001b[0m__doc__\u001b[0m\u001b[0;34m\u001b[0m\u001b[0m\n\u001b[1;32m   2679\u001b[0m \u001b[0;34m\u001b[0m\u001b[0m\n",
      "\u001b[0;32m~/anaconda3/lib/python3.6/site-packages/pandas/plotting/_core.py\u001b[0m in \u001b[0;36mplot_frame\u001b[0;34m(data, x, y, kind, ax, subplots, sharex, sharey, layout, figsize, use_index, title, grid, legend, style, logx, logy, loglog, xticks, yticks, xlim, ylim, rot, fontsize, colormap, table, yerr, xerr, secondary_y, sort_columns, **kwds)\u001b[0m\n\u001b[1;32m   1900\u001b[0m                  \u001b[0myerr\u001b[0m\u001b[0;34m=\u001b[0m\u001b[0myerr\u001b[0m\u001b[0;34m,\u001b[0m \u001b[0mxerr\u001b[0m\u001b[0;34m=\u001b[0m\u001b[0mxerr\u001b[0m\u001b[0;34m,\u001b[0m\u001b[0;34m\u001b[0m\u001b[0m\n\u001b[1;32m   1901\u001b[0m                  \u001b[0msecondary_y\u001b[0m\u001b[0;34m=\u001b[0m\u001b[0msecondary_y\u001b[0m\u001b[0;34m,\u001b[0m \u001b[0msort_columns\u001b[0m\u001b[0;34m=\u001b[0m\u001b[0msort_columns\u001b[0m\u001b[0;34m,\u001b[0m\u001b[0;34m\u001b[0m\u001b[0m\n\u001b[0;32m-> 1902\u001b[0;31m                  **kwds)\n\u001b[0m\u001b[1;32m   1903\u001b[0m \u001b[0;34m\u001b[0m\u001b[0m\n\u001b[1;32m   1904\u001b[0m \u001b[0;34m\u001b[0m\u001b[0m\n",
      "\u001b[0;32m~/anaconda3/lib/python3.6/site-packages/pandas/plotting/_core.py\u001b[0m in \u001b[0;36m_plot\u001b[0;34m(data, x, y, subplots, ax, kind, **kwds)\u001b[0m\n\u001b[1;32m   1685\u001b[0m         \u001b[0;32mif\u001b[0m \u001b[0misinstance\u001b[0m\u001b[0;34m(\u001b[0m\u001b[0mdata\u001b[0m\u001b[0;34m,\u001b[0m \u001b[0mDataFrame\u001b[0m\u001b[0;34m)\u001b[0m\u001b[0;34m:\u001b[0m\u001b[0;34m\u001b[0m\u001b[0m\n\u001b[1;32m   1686\u001b[0m             plot_obj = klass(data, x=x, y=y, subplots=subplots, ax=ax,\n\u001b[0;32m-> 1687\u001b[0;31m                              kind=kind, **kwds)\n\u001b[0m\u001b[1;32m   1688\u001b[0m         \u001b[0;32melse\u001b[0m\u001b[0;34m:\u001b[0m\u001b[0;34m\u001b[0m\u001b[0m\n\u001b[1;32m   1689\u001b[0m             raise ValueError(\"plot kind %r can only be used for data frames\"\n",
      "\u001b[0;32m~/anaconda3/lib/python3.6/site-packages/pandas/plotting/_core.py\u001b[0m in \u001b[0;36m__init__\u001b[0;34m(self, data, x, y, s, c, **kwargs)\u001b[0m\n\u001b[1;32m    835\u001b[0m             \u001b[0;31m# the handling of this argument later\u001b[0m\u001b[0;34m\u001b[0m\u001b[0;34m\u001b[0m\u001b[0m\n\u001b[1;32m    836\u001b[0m             \u001b[0ms\u001b[0m \u001b[0;34m=\u001b[0m \u001b[0;36m20\u001b[0m\u001b[0;34m\u001b[0m\u001b[0m\n\u001b[0;32m--> 837\u001b[0;31m         \u001b[0msuper\u001b[0m\u001b[0;34m(\u001b[0m\u001b[0mScatterPlot\u001b[0m\u001b[0;34m,\u001b[0m \u001b[0mself\u001b[0m\u001b[0;34m)\u001b[0m\u001b[0;34m.\u001b[0m\u001b[0m__init__\u001b[0m\u001b[0;34m(\u001b[0m\u001b[0mdata\u001b[0m\u001b[0;34m,\u001b[0m \u001b[0mx\u001b[0m\u001b[0;34m,\u001b[0m \u001b[0my\u001b[0m\u001b[0;34m,\u001b[0m \u001b[0ms\u001b[0m\u001b[0;34m=\u001b[0m\u001b[0ms\u001b[0m\u001b[0;34m,\u001b[0m \u001b[0;34m**\u001b[0m\u001b[0mkwargs\u001b[0m\u001b[0;34m)\u001b[0m\u001b[0;34m\u001b[0m\u001b[0m\n\u001b[0m\u001b[1;32m    838\u001b[0m         \u001b[0;32mif\u001b[0m \u001b[0mis_integer\u001b[0m\u001b[0;34m(\u001b[0m\u001b[0mc\u001b[0m\u001b[0;34m)\u001b[0m \u001b[0;32mand\u001b[0m \u001b[0;32mnot\u001b[0m \u001b[0mself\u001b[0m\u001b[0;34m.\u001b[0m\u001b[0mdata\u001b[0m\u001b[0;34m.\u001b[0m\u001b[0mcolumns\u001b[0m\u001b[0;34m.\u001b[0m\u001b[0mholds_integer\u001b[0m\u001b[0;34m(\u001b[0m\u001b[0;34m)\u001b[0m\u001b[0;34m:\u001b[0m\u001b[0;34m\u001b[0m\u001b[0m\n\u001b[1;32m    839\u001b[0m             \u001b[0mc\u001b[0m \u001b[0;34m=\u001b[0m \u001b[0mself\u001b[0m\u001b[0;34m.\u001b[0m\u001b[0mdata\u001b[0m\u001b[0;34m.\u001b[0m\u001b[0mcolumns\u001b[0m\u001b[0;34m[\u001b[0m\u001b[0mc\u001b[0m\u001b[0;34m]\u001b[0m\u001b[0;34m\u001b[0m\u001b[0m\n",
      "\u001b[0;32m~/anaconda3/lib/python3.6/site-packages/pandas/plotting/_core.py\u001b[0m in \u001b[0;36m__init__\u001b[0;34m(self, data, x, y, **kwargs)\u001b[0m\n\u001b[1;32m    810\u001b[0m             \u001b[0my\u001b[0m \u001b[0;34m=\u001b[0m \u001b[0mself\u001b[0m\u001b[0;34m.\u001b[0m\u001b[0mdata\u001b[0m\u001b[0;34m.\u001b[0m\u001b[0mcolumns\u001b[0m\u001b[0;34m[\u001b[0m\u001b[0my\u001b[0m\u001b[0;34m]\u001b[0m\u001b[0;34m\u001b[0m\u001b[0m\n\u001b[1;32m    811\u001b[0m         \u001b[0;32mif\u001b[0m \u001b[0mlen\u001b[0m\u001b[0;34m(\u001b[0m\u001b[0mself\u001b[0m\u001b[0;34m.\u001b[0m\u001b[0mdata\u001b[0m\u001b[0;34m[\u001b[0m\u001b[0mx\u001b[0m\u001b[0;34m]\u001b[0m\u001b[0;34m.\u001b[0m\u001b[0m_get_numeric_data\u001b[0m\u001b[0;34m(\u001b[0m\u001b[0;34m)\u001b[0m\u001b[0;34m)\u001b[0m \u001b[0;34m==\u001b[0m \u001b[0;36m0\u001b[0m\u001b[0;34m:\u001b[0m\u001b[0;34m\u001b[0m\u001b[0m\n\u001b[0;32m--> 812\u001b[0;31m             \u001b[0;32mraise\u001b[0m \u001b[0mValueError\u001b[0m\u001b[0;34m(\u001b[0m\u001b[0mself\u001b[0m\u001b[0;34m.\u001b[0m\u001b[0m_kind\u001b[0m \u001b[0;34m+\u001b[0m \u001b[0;34m' requires x column to be numeric'\u001b[0m\u001b[0;34m)\u001b[0m\u001b[0;34m\u001b[0m\u001b[0m\n\u001b[0m\u001b[1;32m    813\u001b[0m         \u001b[0;32mif\u001b[0m \u001b[0mlen\u001b[0m\u001b[0;34m(\u001b[0m\u001b[0mself\u001b[0m\u001b[0;34m.\u001b[0m\u001b[0mdata\u001b[0m\u001b[0;34m[\u001b[0m\u001b[0my\u001b[0m\u001b[0;34m]\u001b[0m\u001b[0;34m.\u001b[0m\u001b[0m_get_numeric_data\u001b[0m\u001b[0;34m(\u001b[0m\u001b[0;34m)\u001b[0m\u001b[0;34m)\u001b[0m \u001b[0;34m==\u001b[0m \u001b[0;36m0\u001b[0m\u001b[0;34m:\u001b[0m\u001b[0;34m\u001b[0m\u001b[0m\n\u001b[1;32m    814\u001b[0m             \u001b[0;32mraise\u001b[0m \u001b[0mValueError\u001b[0m\u001b[0;34m(\u001b[0m\u001b[0mself\u001b[0m\u001b[0;34m.\u001b[0m\u001b[0m_kind\u001b[0m \u001b[0;34m+\u001b[0m \u001b[0;34m' requires y column to be numeric'\u001b[0m\u001b[0;34m)\u001b[0m\u001b[0;34m\u001b[0m\u001b[0m\n",
      "\u001b[0;31mValueError\u001b[0m: scatter requires x column to be numeric"
     ]
    }
   ],
   "source": [
    "plot_region(x_bounds=(-40,-30), y_bounds=(20,30))\n"
   ]
  }
 ],
 "metadata": {
  "kernelspec": {
   "display_name": "Python 3",
   "language": "python",
   "name": "python3"
  },
  "language_info": {
   "codemirror_mode": {
    "name": "ipython",
    "version": 3
   },
   "file_extension": ".py",
   "mimetype": "text/x-python",
   "name": "python",
   "nbconvert_exporter": "python",
   "pygments_lexer": "ipython3",
   "version": "3.6.4"
  }
 },
 "nbformat": 4,
 "nbformat_minor": 2
}
