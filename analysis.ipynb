{
 "cells": [
  {
   "cell_type": "markdown",
   "metadata": {},
   "source": [
    "# De Re Publica Analysis\n",
    "\n",
    "This notebook contains some preliminary investigations of Cicero's De Re Publica."
   ]
  },
  {
   "cell_type": "markdown",
   "metadata": {},
   "source": [
    "## Part I. Read and clean in the data\n",
    "\n",
    "First we read in the text."
   ]
  },
  {
   "cell_type": "code",
   "execution_count": 272,
   "metadata": {},
   "outputs": [
    {
     "name": "stdout",
     "output_type": "stream",
     "text": [
      "Number of sentences: 832\n",
      "Number of words: 24885\n"
     ]
    }
   ],
   "source": [
    "from cltk.corpus.latin import latinlibrary\n",
    "files = latinlibrary.fileids()\n",
    "drp_files = [f for f in files if 'cicero/repub' in f]\n",
    "\n",
    "drp_raw = latinlibrary.raw(drp_files)\n",
    "drp_sents = latinlibrary.sents(drp_files)\n",
    "drp_words = latinlibrary.words(drp_files)\n",
    "\n",
    "print(\"Number of sentences:\", len(drp_sents))\n",
    "print(\"Number of words:\", len(drp_words))"
   ]
  },
  {
   "cell_type": "markdown",
   "metadata": {},
   "source": [
    "We are going to work with the sentence data. We will clean it up to remove punctuation and non-words."
   ]
  },
  {
   "cell_type": "code",
   "execution_count": 273,
   "metadata": {},
   "outputs": [
    {
     "name": "stdout",
     "output_type": "stream",
     "text": [
      "Sentence 0 : ['cicero', 'reor', 'publico', 'eo']\n",
      "Sentence 1 : ['tulli', 'ciceronis', 'reor', 'publico', 'libo', 'primus']\n",
      "Sentence 2 : ['petu', 'liberauissent', 'duelius', 'atilius', 'metellus', 'terror', 'karthaginis', 'duo', 'scipio', 'orior', 'incendium', 'bellus', 'punici', 'secundus', 'sanguis', 'suo', 'restinguo', 'excito', 'magnus', 'copia', 'magnus', 'eneruauisset', 'marcellus', 'contundo', 'porta', 'urbs', 'auolsum', 'africanus', 'compello', 'intro', 'hostis', 'moenia']\n",
      "Sentence 3 : ['verus', 'catonium', 'homo', 'ignosco', 'novo', 'omnes', 'res', 'studeo', 'quasi', 'exemplo', 'industria', 'virtus', 'duco', 'certus', 'liceo', 'tusculum', 'otium', 'delecto', 'salubris', 'propinquo', 'loco']\n",
      "Sentence 4 : ['homo', 'demo', 'iste', 'puto', 'cogo', 'necessitas', 'nullus', 'unda', 'tempestas', 'summa', 'senectus', 'malo', 'jacto', 'tranquillitas', 'otium', 'jucundus', 'vivo']\n",
      "Sentence 5 : ['omitto', 'innumerabilis', 'vir', 'singulus', 'salus', 'civitas', 'procul', 'aetas', 'memor', 'commemoro', 'desino', 'neo', 'queo', 'suum', 'praetermitto', 'queror']\n",
      "Sentence 6 : ['definio', 'tantus', 'edo', 'necessitas', 'virtus', 'gener', 'homo', 'natura', 'tantus', 'amor', 'communis', 'saluto', 'defendo', 'do', 'volo', 'omne', 'blandimentum', 'voluptas', 'otium', 'vinco']\n",
      "Sentence 7 : ['verus', 'habeo', 'virtus', 'sero', 'edo', 'quasi', 'arto', 'nitor', 'uto', 'ars', 'uto', 'scio', 'teneo', 'virtus', 'utor', 'suo', 'totus', 'pono', 'edo', 'utor', 'edo', 'magnus', 'civitas', 'gubernatio', 'res', 'iste', 'angulus', 'persono', 'reapse', 'oratio', 'perfectio']\n",
      "Sentence 8 : ['nihil', 'dico', 'philosophus', 'recingo', 'honestus', 'dico', 'pario', 'confirmo', 'civitas', 'juro', 'discribo']\n",
      "Sentence 9 : ['unde', 'pietas', 'religio']\n",
      "Sentence -1 : ['cicero', 'thos', 'fero', 'thos', 'pagus']\n",
      "Sentence -2 : ['discedo', 'somnus', 'solvo']\n",
      "Sentence -3 : ['animus', 'corpus', 'voluptas', 'dedo', 'quasi', 'minister', 'praebeo', 'impello', 'libido', 'voluptas', 'oboedio', 'deus', 'homo', 'juro', 'uiolauerunt', 'corpus', 'elabor', 'circos', 'terra', 'voluto', 'locus', 'nitor', 'multa', 'exagito', 'saeculum', 'revorto']\n",
      "Sentence -4 : ['bonus', 'cura', 'salus', 'patria', 'agito', 'exercito', 'animus', 'velox', 'sedo', 'domus', 'suo', 'peruolabit', 'ocior', 'facio', 'jam', 'includo', 'corpus', 'emineo', 'foro', 'extro', 'contemplo', 'magnus', 'corpus', 'abstraho']\n",
      "Sentence -5 : ['exerceo', 'bonus', 'res']\n",
      "Sentence -6 : ['edo', 'omne', 'moveo', 'nato', 'certus', 'edo', 'aeternus', 'edo']\n",
      "Sentence -7 : ['inanimus', 'edo', 'omne', 'pello', 'agito', 'externus', 'edo', 'animal', 'moveo', 'cieo', 'internus', 'suo', 'edo', 'proprius', 'natura', 'animus', 'volo']\n",
      "Sentence -8 : ['pateo', 'aeternus', 'edo', 'moveo', 'queo', 'edo', 'natura', 'animus', 'edo', 'tribuo', 'nego']\n",
      "Sentence -9 : ['nasco', 'morior', 'vel', 'concaedes', 'omne', 'caelum', 'omne', 'natura', 'consisto', 'necesse', 'edo', 'vis', 'ullus', 'nanciscor', 'primus', 'impello', 'moveo']\n"
     ]
    }
   ],
   "source": [
    "from cltk.stem.lemma import LemmaReplacer\n",
    "lemmatizer = LemmaReplacer('latin')\n",
    "from cltk.stop.latin.stops import STOPS_LIST\n",
    "from string import digits\n",
    "remove_digits = str.maketrans('', '', digits)\n",
    "from cltk.stem.latin.j_v import JVReplacer\n",
    "jv_replacer = JVReplacer()\n",
    "\n",
    "def sentence_cleaner(sentence):\n",
    "    def remove_word(word):\n",
    "        if word in [\".\",\",\",\"-\",\";\",\":\",\"?\",\"&\",\"!\",\"(\",\")\",\"lt\",\"gt\",'\"']:\n",
    "            return True\n",
    "        if \"&\" in word:\n",
    "            return True\n",
    "        if word in STOPS_LIST +[\"que\",\"ne\",\"library\",\"classics\"]:\n",
    "            return True\n",
    "        if word == \"\":\n",
    "            return True\n",
    "        if len(word) == 1:\n",
    "            return True\n",
    "        return False\n",
    "        \n",
    "    def lemmatize_word(word):\n",
    "        w = word.lower()\n",
    "        w = w.replace(\"'\",\"\")\n",
    "        w = w.replace('\"','')\n",
    "        w = w.replace(\".\",\"\")\n",
    "        w = jv_replacer.replace(w)\n",
    "        l = lemmatizer.lemmatize(w)\n",
    "        if  len(l) == 1 and (l[0] == \"publica\" or l[0] == \"publicum\"):\n",
    "            return [\"publica\"]\n",
    "        return l\n",
    "    \n",
    "    sent = []\n",
    "    for wd in sentence:\n",
    "        sent += lemmatize_word(wd)\n",
    "    \n",
    "    \n",
    "    sent_no_nums = [wd.translate(remove_digits) for wd in sent]\n",
    "\n",
    "    return [wd for wd in sent_no_nums if not remove_word(wd)]\n",
    "\n",
    "\n",
    "\n",
    "sentences = [s for s in [sentence_cleaner(sent) for sent in drp_sents] if len(s) > 0]\n",
    "for i in range(10):\n",
    "    print(\"Sentence\",i,\":\",sentences[i])\n",
    "for i in range(1,10):\n",
    "    print(\"Sentence\",-i,\":\",sentences[-i])"
   ]
  },
  {
   "cell_type": "code",
   "execution_count": 274,
   "metadata": {},
   "outputs": [
    {
     "name": "stdout",
     "output_type": "stream",
     "text": [
      "The text corpus contains 12,780 tokens.\n"
     ]
    }
   ],
   "source": [
    "token_count = sum([len(sentence) for sentence in sentences])\n",
    "print(\"The text corpus contains {0:,} tokens.\".format(token_count))"
   ]
  },
  {
   "cell_type": "markdown",
   "metadata": {},
   "source": [
    "## Part II. Try a Word2Vec Model\n",
    "\n",
    "We will now attempt a Word2Vec model."
   ]
  },
  {
   "cell_type": "code",
   "execution_count": 275,
   "metadata": {},
   "outputs": [],
   "source": [
    "import multiprocessing\n",
    "\n",
    "params={\"size\": 100,\n",
    "        \"alpha\":0.025, \n",
    "        \"window\":5, \n",
    "        \"min_count\":2, \n",
    "        \"max_vocab_size\":None, \n",
    "        \"sample\":0.001, \n",
    "        \"seed\":1, \n",
    "        \"workers\":multiprocessing.cpu_count(), \n",
    "        \"min_alpha\":0.0001, \n",
    "        \"sg\":0, \n",
    "        \"hs\":0, \n",
    "        \"negative\":5, \n",
    "        \"cbow_mean\":1, \n",
    "        \"hashfxn\":hash, \n",
    "        \"iter\":5, \n",
    "        \"null_word\":0, \n",
    "        \"trim_rule\":None, \n",
    "        \"sorted_vocab\":1, \n",
    "        \"batch_words\":10000, \n",
    "        \"compute_loss\":False, \n",
    "        \"callbacks\":()}"
   ]
  },
  {
   "cell_type": "code",
   "execution_count": 276,
   "metadata": {},
   "outputs": [],
   "source": [
    "import gensim.models.word2vec as w2v\n",
    "\n",
    "drp2vec = w2v.Word2Vec(\n",
    "    **params\n",
    ")"
   ]
  },
  {
   "cell_type": "code",
   "execution_count": 277,
   "metadata": {},
   "outputs": [],
   "source": [
    "drp2vec.build_vocab(sentences)"
   ]
  },
  {
   "cell_type": "code",
   "execution_count": 278,
   "metadata": {},
   "outputs": [
    {
     "name": "stdout",
     "output_type": "stream",
     "text": [
      "Word2Vec vocabulary length: 1372\n"
     ]
    }
   ],
   "source": [
    "print(\"Word2Vec vocabulary length:\", len(drp2vec.wv.vocab))"
   ]
  },
  {
   "cell_type": "code",
   "execution_count": 279,
   "metadata": {},
   "outputs": [
    {
     "data": {
      "text/plain": [
       "(949991, 1278000)"
      ]
     },
     "execution_count": 279,
     "metadata": {},
     "output_type": "execute_result"
    }
   ],
   "source": [
    "drp2vec.train(sentences,total_examples=drp2vec.corpus_count,epochs=100)"
   ]
  },
  {
   "cell_type": "code",
   "execution_count": 280,
   "metadata": {},
   "outputs": [],
   "source": [
    "import os\n",
    "if not os.path.exists(\"trained\"):\n",
    "    os.makedirs(\"trained\")\n",
    "\n",
    "drp2vec.save(os.path.join(\"trained\", \"drp2vec.w2v\"))"
   ]
  },
  {
   "cell_type": "code",
   "execution_count": 281,
   "metadata": {},
   "outputs": [],
   "source": [
    "#drp2vec = w2v.Word2Vec.load(os.path.join(\"trained\", \"drp2vec.w2v\"))"
   ]
  },
  {
   "cell_type": "code",
   "execution_count": 282,
   "metadata": {},
   "outputs": [
    {
     "name": "stderr",
     "output_type": "stream",
     "text": [
      "/Users/marccanby/anaconda3/lib/python3.6/site-packages/ipykernel_launcher.py:3: DeprecationWarning: Call to deprecated `syn0` (Attribute will be removed in 4.0.0, use self.wv.vectors instead).\n",
      "  This is separate from the ipykernel package so we can avoid doing imports until\n"
     ]
    }
   ],
   "source": [
    "from sklearn import manifold\n",
    "tsne = manifold.TSNE(n_components=2, random_state=0)\n",
    "all_word_vectors_matrix = drp2vec.wv.syn0\n",
    "all_word_vectors_matrix_2d = tsne.fit_transform(all_word_vectors_matrix)"
   ]
  },
  {
   "cell_type": "code",
   "execution_count": 283,
   "metadata": {},
   "outputs": [],
   "source": [
    "import pandas as pd\n",
    "\n",
    "points = pd.DataFrame(\n",
    "    [\n",
    "        (word, coords[0], coords[1])\n",
    "        for word, coords in [\n",
    "            (word, all_word_vectors_matrix_2d[drp2vec.wv.vocab[word].index])\n",
    "            for word in drp2vec.wv.vocab\n",
    "        ]\n",
    "    ],\n",
    "    columns=[\"word\", \"x\", \"y\"]\n",
    ")"
   ]
  },
  {
   "cell_type": "code",
   "execution_count": 284,
   "metadata": {},
   "outputs": [
    {
     "data": {
      "text/html": [
       "<div>\n",
       "<style scoped>\n",
       "    .dataframe tbody tr th:only-of-type {\n",
       "        vertical-align: middle;\n",
       "    }\n",
       "\n",
       "    .dataframe tbody tr th {\n",
       "        vertical-align: top;\n",
       "    }\n",
       "\n",
       "    .dataframe thead th {\n",
       "        text-align: right;\n",
       "    }\n",
       "</style>\n",
       "<table border=\"1\" class=\"dataframe\">\n",
       "  <thead>\n",
       "    <tr style=\"text-align: right;\">\n",
       "      <th></th>\n",
       "      <th>word</th>\n",
       "      <th>x</th>\n",
       "      <th>y</th>\n",
       "    </tr>\n",
       "  </thead>\n",
       "  <tbody>\n",
       "    <tr>\n",
       "      <th>0</th>\n",
       "      <td>cicero</td>\n",
       "      <td>-40.728046</td>\n",
       "      <td>-8.594536</td>\n",
       "    </tr>\n",
       "    <tr>\n",
       "      <th>1</th>\n",
       "      <td>reor</td>\n",
       "      <td>-37.643978</td>\n",
       "      <td>-9.963756</td>\n",
       "    </tr>\n",
       "    <tr>\n",
       "      <th>2</th>\n",
       "      <td>publico</td>\n",
       "      <td>-39.019634</td>\n",
       "      <td>-11.083632</td>\n",
       "    </tr>\n",
       "    <tr>\n",
       "      <th>3</th>\n",
       "      <td>eo</td>\n",
       "      <td>-9.727476</td>\n",
       "      <td>-3.936809</td>\n",
       "    </tr>\n",
       "    <tr>\n",
       "      <th>4</th>\n",
       "      <td>tulli</td>\n",
       "      <td>-38.885464</td>\n",
       "      <td>-10.063598</td>\n",
       "    </tr>\n",
       "    <tr>\n",
       "      <th>5</th>\n",
       "      <td>ciceronis</td>\n",
       "      <td>-38.853912</td>\n",
       "      <td>-10.091063</td>\n",
       "    </tr>\n",
       "    <tr>\n",
       "      <th>6</th>\n",
       "      <td>libo</td>\n",
       "      <td>-38.462700</td>\n",
       "      <td>-9.999486</td>\n",
       "    </tr>\n",
       "    <tr>\n",
       "      <th>7</th>\n",
       "      <td>primus</td>\n",
       "      <td>-1.436940</td>\n",
       "      <td>32.366215</td>\n",
       "    </tr>\n",
       "    <tr>\n",
       "      <th>8</th>\n",
       "      <td>terror</td>\n",
       "      <td>8.824158</td>\n",
       "      <td>-12.488568</td>\n",
       "    </tr>\n",
       "    <tr>\n",
       "      <th>9</th>\n",
       "      <td>duo</td>\n",
       "      <td>11.824643</td>\n",
       "      <td>-25.923359</td>\n",
       "    </tr>\n",
       "    <tr>\n",
       "      <th>10</th>\n",
       "      <td>scipio</td>\n",
       "      <td>-34.400642</td>\n",
       "      <td>25.864290</td>\n",
       "    </tr>\n",
       "    <tr>\n",
       "      <th>11</th>\n",
       "      <td>orior</td>\n",
       "      <td>-6.162336</td>\n",
       "      <td>25.658792</td>\n",
       "    </tr>\n",
       "    <tr>\n",
       "      <th>12</th>\n",
       "      <td>bellus</td>\n",
       "      <td>10.127135</td>\n",
       "      <td>28.301500</td>\n",
       "    </tr>\n",
       "    <tr>\n",
       "      <th>13</th>\n",
       "      <td>secundus</td>\n",
       "      <td>5.748901</td>\n",
       "      <td>26.472483</td>\n",
       "    </tr>\n",
       "    <tr>\n",
       "      <th>14</th>\n",
       "      <td>sanguis</td>\n",
       "      <td>-10.332973</td>\n",
       "      <td>13.697968</td>\n",
       "    </tr>\n",
       "    <tr>\n",
       "      <th>15</th>\n",
       "      <td>suo</td>\n",
       "      <td>-10.017373</td>\n",
       "      <td>34.629185</td>\n",
       "    </tr>\n",
       "    <tr>\n",
       "      <th>16</th>\n",
       "      <td>excito</td>\n",
       "      <td>16.534908</td>\n",
       "      <td>8.674513</td>\n",
       "    </tr>\n",
       "    <tr>\n",
       "      <th>17</th>\n",
       "      <td>magnus</td>\n",
       "      <td>4.739967</td>\n",
       "      <td>-33.296959</td>\n",
       "    </tr>\n",
       "    <tr>\n",
       "      <th>18</th>\n",
       "      <td>copia</td>\n",
       "      <td>10.315529</td>\n",
       "      <td>26.600945</td>\n",
       "    </tr>\n",
       "    <tr>\n",
       "      <th>19</th>\n",
       "      <td>marcellus</td>\n",
       "      <td>17.380915</td>\n",
       "      <td>6.636208</td>\n",
       "    </tr>\n",
       "    <tr>\n",
       "      <th>20</th>\n",
       "      <td>urbs</td>\n",
       "      <td>11.696644</td>\n",
       "      <td>31.253544</td>\n",
       "    </tr>\n",
       "    <tr>\n",
       "      <th>21</th>\n",
       "      <td>africanus</td>\n",
       "      <td>-32.241657</td>\n",
       "      <td>26.738794</td>\n",
       "    </tr>\n",
       "    <tr>\n",
       "      <th>22</th>\n",
       "      <td>intro</td>\n",
       "      <td>17.863098</td>\n",
       "      <td>7.187022</td>\n",
       "    </tr>\n",
       "    <tr>\n",
       "      <th>23</th>\n",
       "      <td>hostis</td>\n",
       "      <td>18.706656</td>\n",
       "      <td>13.348454</td>\n",
       "    </tr>\n",
       "    <tr>\n",
       "      <th>24</th>\n",
       "      <td>moenia</td>\n",
       "      <td>18.392014</td>\n",
       "      <td>7.373404</td>\n",
       "    </tr>\n",
       "    <tr>\n",
       "      <th>25</th>\n",
       "      <td>verus</td>\n",
       "      <td>-6.969707</td>\n",
       "      <td>-15.056416</td>\n",
       "    </tr>\n",
       "    <tr>\n",
       "      <th>26</th>\n",
       "      <td>homo</td>\n",
       "      <td>36.898010</td>\n",
       "      <td>-1.682746</td>\n",
       "    </tr>\n",
       "    <tr>\n",
       "      <th>27</th>\n",
       "      <td>ignosco</td>\n",
       "      <td>32.453300</td>\n",
       "      <td>-4.700051</td>\n",
       "    </tr>\n",
       "    <tr>\n",
       "      <th>28</th>\n",
       "      <td>novo</td>\n",
       "      <td>31.533461</td>\n",
       "      <td>-0.421393</td>\n",
       "    </tr>\n",
       "    <tr>\n",
       "      <th>29</th>\n",
       "      <td>omnes</td>\n",
       "      <td>12.983524</td>\n",
       "      <td>23.941212</td>\n",
       "    </tr>\n",
       "    <tr>\n",
       "      <th>30</th>\n",
       "      <td>res</td>\n",
       "      <td>-27.593840</td>\n",
       "      <td>-12.506227</td>\n",
       "    </tr>\n",
       "    <tr>\n",
       "      <th>31</th>\n",
       "      <td>studeo</td>\n",
       "      <td>0.706048</td>\n",
       "      <td>-21.472664</td>\n",
       "    </tr>\n",
       "    <tr>\n",
       "      <th>32</th>\n",
       "      <td>quasi</td>\n",
       "      <td>18.104195</td>\n",
       "      <td>-27.851347</td>\n",
       "    </tr>\n",
       "    <tr>\n",
       "      <th>33</th>\n",
       "      <td>exemplo</td>\n",
       "      <td>-7.796986</td>\n",
       "      <td>-24.832447</td>\n",
       "    </tr>\n",
       "    <tr>\n",
       "      <th>34</th>\n",
       "      <td>virtus</td>\n",
       "      <td>-12.929885</td>\n",
       "      <td>-33.713135</td>\n",
       "    </tr>\n",
       "    <tr>\n",
       "      <th>35</th>\n",
       "      <td>duco</td>\n",
       "      <td>1.086933</td>\n",
       "      <td>-4.424012</td>\n",
       "    </tr>\n",
       "    <tr>\n",
       "      <th>36</th>\n",
       "      <td>certus</td>\n",
       "      <td>-22.237759</td>\n",
       "      <td>-10.559086</td>\n",
       "    </tr>\n",
       "    <tr>\n",
       "      <th>37</th>\n",
       "      <td>liceo</td>\n",
       "      <td>-18.237087</td>\n",
       "      <td>-7.646924</td>\n",
       "    </tr>\n",
       "    <tr>\n",
       "      <th>38</th>\n",
       "      <td>otium</td>\n",
       "      <td>-8.312482</td>\n",
       "      <td>5.286941</td>\n",
       "    </tr>\n",
       "    <tr>\n",
       "      <th>39</th>\n",
       "      <td>delecto</td>\n",
       "      <td>27.351492</td>\n",
       "      <td>-0.139081</td>\n",
       "    </tr>\n",
       "  </tbody>\n",
       "</table>\n",
       "</div>"
      ],
      "text/plain": [
       "         word          x          y\n",
       "0      cicero -40.728046  -8.594536\n",
       "1        reor -37.643978  -9.963756\n",
       "2     publico -39.019634 -11.083632\n",
       "3          eo  -9.727476  -3.936809\n",
       "4       tulli -38.885464 -10.063598\n",
       "5   ciceronis -38.853912 -10.091063\n",
       "6        libo -38.462700  -9.999486\n",
       "7      primus  -1.436940  32.366215\n",
       "8      terror   8.824158 -12.488568\n",
       "9         duo  11.824643 -25.923359\n",
       "10     scipio -34.400642  25.864290\n",
       "11      orior  -6.162336  25.658792\n",
       "12     bellus  10.127135  28.301500\n",
       "13   secundus   5.748901  26.472483\n",
       "14    sanguis -10.332973  13.697968\n",
       "15        suo -10.017373  34.629185\n",
       "16     excito  16.534908   8.674513\n",
       "17     magnus   4.739967 -33.296959\n",
       "18      copia  10.315529  26.600945\n",
       "19  marcellus  17.380915   6.636208\n",
       "20       urbs  11.696644  31.253544\n",
       "21  africanus -32.241657  26.738794\n",
       "22      intro  17.863098   7.187022\n",
       "23     hostis  18.706656  13.348454\n",
       "24     moenia  18.392014   7.373404\n",
       "25      verus  -6.969707 -15.056416\n",
       "26       homo  36.898010  -1.682746\n",
       "27    ignosco  32.453300  -4.700051\n",
       "28       novo  31.533461  -0.421393\n",
       "29      omnes  12.983524  23.941212\n",
       "30        res -27.593840 -12.506227\n",
       "31     studeo   0.706048 -21.472664\n",
       "32      quasi  18.104195 -27.851347\n",
       "33    exemplo  -7.796986 -24.832447\n",
       "34     virtus -12.929885 -33.713135\n",
       "35       duco   1.086933  -4.424012\n",
       "36     certus -22.237759 -10.559086\n",
       "37      liceo -18.237087  -7.646924\n",
       "38      otium  -8.312482   5.286941\n",
       "39    delecto  27.351492  -0.139081"
      ]
     },
     "execution_count": 284,
     "metadata": {},
     "output_type": "execute_result"
    }
   ],
   "source": [
    "points.head(40)"
   ]
  },
  {
   "cell_type": "code",
   "execution_count": 285,
   "metadata": {},
   "outputs": [
    {
     "name": "stdout",
     "output_type": "stream",
     "text": [
      "word    publico\n",
      "x      -39.0196\n",
      "y      -11.0836\n",
      "Name: 2, dtype: object\n",
      "word    publica\n",
      "x      -30.2301\n",
      "y      -13.8113\n",
      "Name: 156, dtype: object\n",
      "word      pubes\n",
      "x       8.60108\n",
      "y      -2.35922\n",
      "Name: 1171, dtype: object\n",
      "word    publicola\n",
      "x        0.739664\n",
      "y         14.7764\n",
      "Name: 1279, dtype: object\n"
     ]
    }
   ],
   "source": [
    "for i in range(points.shape[0]):\n",
    "    if \"pub\" in points['word'][i]:\n",
    "        print (points.iloc[i])"
   ]
  },
  {
   "cell_type": "code",
   "execution_count": 286,
   "metadata": {},
   "outputs": [
    {
     "data": {
      "text/plain": [
       "<matplotlib.axes._subplots.AxesSubplot at 0x1a1ba773c8>"
      ]
     },
     "execution_count": 286,
     "metadata": {},
     "output_type": "execute_result"
    },
    {
     "data": {
      "image/png": "[encoded data removed]",
      "text/plain": [
       "<matplotlib.figure.Figure at 0x1a1a8c9978>"
      ]
     },
     "metadata": {},
     "output_type": "display_data"
    }
   ],
   "source": [
    "import seaborn as sns\n",
    "import matplotlib.pyplot as plt\n",
    "sns.set_context(\"poster\")\n",
    "points.plot.scatter(\"x\", \"y\", s=10, figsize=(20, 12))"
   ]
  },
  {
   "cell_type": "code",
   "execution_count": 287,
   "metadata": {},
   "outputs": [],
   "source": [
    "def plot_region(x_bounds, y_bounds):\n",
    "    slice = points[\n",
    "        (x_bounds[0] <= points.x) &\n",
    "        (points.x <= x_bounds[1]) & \n",
    "        (y_bounds[0] <= points.y) &\n",
    "        (points.y <= y_bounds[1])\n",
    "    ]\n",
    "    \n",
    "    ax = slice.plot.scatter(\"x\", \"y\", s=35, figsize=(10, 8))\n",
    "    for i, point in slice.iterrows():\n",
    "        ax.text(point.x + 0.005, point.y + 0.005, point.word, fontsize=11)"
   ]
  },
  {
   "cell_type": "code",
   "execution_count": 290,
   "metadata": {},
   "outputs": [
    {
     "data": {
      "image/png": "[encoded data removed]",
      "text/plain": [
       "<matplotlib.figure.Figure at 0x1a22a13358>"
      ]
     },
     "metadata": {},
     "output_type": "display_data"
    }
   ],
   "source": [
    "plot_region(x_bounds=(-40,-30), y_bounds=(20,30))\n"
   ]
  }
 ],
 "metadata": {
  "kernelspec": {
   "display_name": "Python 3",
   "language": "python",
   "name": "python3"
  },
  "language_info": {
   "codemirror_mode": {
    "name": "ipython",
    "version": 3
   },
   "file_extension": ".py",
   "mimetype": "text/x-python",
   "name": "python",
   "nbconvert_exporter": "python",
   "pygments_lexer": "ipython3",
   "version": "3.6.4"
  }
 },
 "nbformat": 4,
 "nbformat_minor": 2
}
